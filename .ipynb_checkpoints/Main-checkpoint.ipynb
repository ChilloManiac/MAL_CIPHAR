{
 "cells": [
  {
   "cell_type": "markdown",
   "metadata": {},
   "source": [
    "# Setup"
   ]
  },
  {
   "cell_type": "code",
   "execution_count": 1,
   "metadata": {},
   "outputs": [],
   "source": [
    "# Imports\n",
    "import numpy as np\n",
    "import tensorflow as tf\n",
    "from tensorflow import keras\n",
    "import pickle\n",
    "from libHanSolo import unpacker\n",
    "from matplotlib import pyplot"
   ]
  },
  {
   "cell_type": "code",
   "execution_count": 2,
   "metadata": {},
   "outputs": [],
   "source": [
    "# Constants\n",
    "INDEX_ORDER = [(x, x + 1024, x + 2048) for x in range(0, 1024)]\n",
    "INPUT_SHAPE = (32, 32, 3)"
   ]
  },
  {
   "cell_type": "code",
   "execution_count": 141,
   "metadata": {},
   "outputs": [],
   "source": [
    "def DataToImage(pixel_values):\n",
    "    ordered = pixel_values[INDEX_ORDER]\n",
    "    return np.array(ordered.reshape(INPUT_SHAPE))\n",
    "\n",
    "def BatchToImages(batch):\n",
    "    images = unpacker.get_value(batch, 'data')\n",
    "    return np.array([DataToImage(image) for image in images])\n",
    "\n",
    "def LabelToVector(label_value):\n",
    "    arr = np.zeros(10)\n",
    "    arr[label_value] = 1.0\n",
    "    return arr\n",
    "\n",
    "def BatchToLabelVector(batch):\n",
    "    labels = unpacker.get_value(batch, 'labels')\n",
    "    return np.array([LabelToVector(label) for label in labels])\n",
    "\n",
    "def SetupData():\n",
    "    batches = [unpacker.unpickle(f'./data/data_batch_{index}') for index in range(1, 6)]\n",
    "    test = unpacker.unpickle(f'./data/test_batch')\n",
    "    X_train = np.concatenate([BatchToImages(batch) for batch in batches])\n",
    "    X_test = BatchToImages(test)\n",
    "    y_train = np.concatenate([BatchToLabelVector(batch) for batch in batches])\n",
    "    y_test = BatchToLabelVector(test)\n",
    "    return [X_train, y_train, X_test, y_test]\n",
    "\n"
   ]
  },
  {
   "cell_type": "code",
   "execution_count": 142,
   "metadata": {},
   "outputs": [
    {
     "name": "stdout",
     "output_type": "stream",
     "text": [
      "(50000, 32, 32, 3) (10000, 32, 32, 3) (50000, 10) (10000, 10)\n"
     ]
    }
   ],
   "source": [
    "[X_train, y_train, X_test, y_test] = SetupData()\n",
    "print(f'{X_train.shape} {X_test.shape} {y_train.shape} {y_test.shape}')"
   ]
  },
  {
   "cell_type": "markdown",
   "metadata": {},
   "source": [
    "# Resnet50 - transfer learning"
   ]
  },
  {
   "cell_type": "code",
   "execution_count": 338,
   "metadata": {},
   "outputs": [
    {
     "name": "stdout",
     "output_type": "stream",
     "text": [
      "Model: \"sequential_115\"\n",
      "_________________________________________________________________\n",
      "Layer (type)                 Output Shape              Param #   \n",
      "=================================================================\n",
      "resnet50 (Model)             (None, 2048)              23587712  \n",
      "_________________________________________________________________\n",
      "dense_145 (Dense)            (None, 128)               262272    \n",
      "_________________________________________________________________\n",
      "dropout_60 (Dropout)         (None, 128)               0         \n",
      "_________________________________________________________________\n",
      "dense_146 (Dense)            (None, 64)                8256      \n",
      "_________________________________________________________________\n",
      "dropout_61 (Dropout)         (None, 64)                0         \n",
      "_________________________________________________________________\n",
      "dense_147 (Dense)            (None, 10)                650       \n",
      "=================================================================\n",
      "Total params: 23,858,890\n",
      "Trainable params: 23,805,770\n",
      "Non-trainable params: 53,120\n",
      "_________________________________________________________________\n"
     ]
    }
   ],
   "source": [
    "model = keras.Sequential([\n",
    "    keras.applications.resnet50.ResNet50(weights=\"imagenet\", include_top=False, input_shape=INPUT_SHAPE, pooling='avg'),\n",
    "    keras.layers.Dense(128, activation=\"relu\"),\n",
    "    keras.layers.Dropout(0.3),\n",
    "    keras.layers.Dense(64, activation=\"relu\"),\n",
    "    keras.layers.Dropout(0.3),\n",
    "    keras.layers.Dense(10, activation=\"softmax\")\n",
    "])\n",
    "\n",
    "model.compile(loss='categorical_crossentropy',optimizer='adam',metrics=['accuracy'])\n",
    "model.summary()\n",
    "\n",
    "def process(set):\n",
    "    return keras.applications.resnet.preprocess_input(set)\n",
    "    \n",
    "X_train_processed = process(X_train)\n",
    "X_test_processed = process(X_test)"
   ]
  },
  {
   "cell_type": "code",
   "execution_count": null,
   "metadata": {},
   "outputs": [
    {
     "name": "stdout",
     "output_type": "stream",
     "text": [
      "Epoch 1/20\n",
      "782/782 [==============================] - 35s 45ms/step - loss: 1.4560 - accuracy: 0.5168 - val_loss: 2.1322 - val_accuracy: 0.3692\n",
      "Epoch 2/20\n",
      "782/782 [==============================] - 35s 45ms/step - loss: 1.1046 - accuracy: 0.6390 - val_loss: 2.3363 - val_accuracy: 0.1549\n",
      "Epoch 3/20\n",
      "782/782 [==============================] - 35s 45ms/step - loss: 1.0637 - accuracy: 0.6501 - val_loss: 1.5513 - val_accuracy: 0.4890\n",
      "Epoch 4/20\n",
      "293/782 [==========>...................] - ETA: 20s - loss: 0.9197 - accuracy: 0.7001"
     ]
    }
   ],
   "source": [
    "history = model.fit(X_train_processed, y_train, epochs=20, validation_data=(X_test_processed, y_test), batch_size=64)"
   ]
  },
  {
   "cell_type": "markdown",
   "metadata": {},
   "source": [
    "# With preprocessing"
   ]
  },
  {
   "cell_type": "code",
   "execution_count": 330,
   "metadata": {},
   "outputs": [
    {
     "name": "stdout",
     "output_type": "stream",
     "text": [
      "Model: \"sequential_114\"\n",
      "_________________________________________________________________\n",
      "Layer (type)                 Output Shape              Param #   \n",
      "=================================================================\n",
      "resizing_9 (Resizing)        (None, 224, 224, 3)       0         \n",
      "_________________________________________________________________\n",
      "random_flip_134 (RandomFlip) (None, 224, 224, 3)       0         \n",
      "_________________________________________________________________\n",
      "random_rotation_72 (RandomRo (None, 224, 224, 3)       0         \n",
      "_________________________________________________________________\n",
      "resnet50 (Model)             (None, 2048)              23587712  \n",
      "_________________________________________________________________\n",
      "dense_142 (Dense)            (None, 128)               262272    \n",
      "_________________________________________________________________\n",
      "dropout_58 (Dropout)         (None, 128)               0         \n",
      "_________________________________________________________________\n",
      "dense_143 (Dense)            (None, 64)                8256      \n",
      "_________________________________________________________________\n",
      "dropout_59 (Dropout)         (None, 64)                0         \n",
      "_________________________________________________________________\n",
      "dense_144 (Dense)            (None, 10)                650       \n",
      "=================================================================\n",
      "Total params: 23,858,890\n",
      "Trainable params: 23,805,770\n",
      "Non-trainable params: 53,120\n",
      "_________________________________________________________________\n"
     ]
    }
   ],
   "source": [
    "model_with_preprocessing = keras.Sequential([\n",
    "    keras.Input(INPUT_SHAPE),\n",
    "    keras.layers.experimental.preprocessing.Resizing(224, 224),\n",
    "    keras.layers.experimental.preprocessing.RandomFlip(mode=\"horizontal_and_vertical\"),\n",
    "    keras.layers.experimental.preprocessing.RandomRotation(0.1),\n",
    "    keras.applications.resnet50.ResNet50(weights=\"imagenet\", include_top=False, pooling='avg'),\n",
    "    keras.layers.Dense(128, activation=\"relu\"),\n",
    "    keras.layers.Dropout(0.3),\n",
    "    keras.layers.Dense(64, activation=\"relu\"),\n",
    "    keras.layers.Dropout(0.3),\n",
    "    keras.layers.Dense(10, activation=\"softmax\")\n",
    "])\n",
    "\n",
    "model_with_preprocessing.compile(loss='categorical_crossentropy',optimizer='adam',metrics=['accuracy'])\n",
    "model_with_preprocessing.summary()\n",
    "\n",
    "def process(set):\n",
    "    return keras.applications.resnet.preprocess_input(set)\n",
    "    \n",
    "X_train_processed = process(X_train)\n",
    "X_test_processed = process(X_test)"
   ]
  },
  {
   "cell_type": "code",
   "execution_count": 336,
   "metadata": {},
   "outputs": [
    {
     "name": "stdout",
     "output_type": "stream",
     "text": [
      "Epoch 1/20\n",
      "1/1 [==============================] - 0s 2ms/step - loss: 2.6714 - accuracy: 0.1000\n",
      "Epoch 2/20\n",
      "1/1 [==============================] - 0s 802us/step - loss: 2.2848 - accuracy: 0.4000\n",
      "Epoch 3/20\n",
      "1/1 [==============================] - 0s 548us/step - loss: 1.9462 - accuracy: 0.2000\n",
      "Epoch 4/20\n",
      "1/1 [==============================] - 0s 764us/step - loss: 1.2533 - accuracy: 0.7000\n",
      "Epoch 5/20\n",
      "1/1 [==============================] - 0s 727us/step - loss: 1.1860 - accuracy: 0.6000\n",
      "Epoch 6/20\n",
      "1/1 [==============================] - 0s 940us/step - loss: 0.6401 - accuracy: 0.8000\n",
      "Epoch 7/20\n",
      "1/1 [==============================] - 0s 824us/step - loss: 0.7717 - accuracy: 0.7000\n",
      "Epoch 8/20\n",
      "1/1 [==============================] - 0s 761us/step - loss: 1.2151 - accuracy: 0.6000\n",
      "Epoch 9/20\n",
      "1/1 [==============================] - 0s 690us/step - loss: 0.9746 - accuracy: 0.8000\n",
      "Epoch 10/20\n",
      "1/1 [==============================] - 0s 566us/step - loss: 0.4064 - accuracy: 1.0000\n",
      "Epoch 11/20\n",
      "1/1 [==============================] - 0s 555us/step - loss: 0.2360 - accuracy: 1.0000\n",
      "Epoch 12/20\n",
      "1/1 [==============================] - 0s 765us/step - loss: 0.1910 - accuracy: 1.0000\n",
      "Epoch 13/20\n",
      "1/1 [==============================] - 0s 697us/step - loss: 0.1719 - accuracy: 1.0000\n",
      "Epoch 14/20\n",
      "1/1 [==============================] - 0s 693us/step - loss: 0.1467 - accuracy: 0.9000\n",
      "Epoch 15/20\n",
      "1/1 [==============================] - 0s 681us/step - loss: 0.2932 - accuracy: 0.8000\n",
      "Epoch 16/20\n",
      "1/1 [==============================] - 0s 547us/step - loss: 0.0633 - accuracy: 1.0000\n",
      "Epoch 17/20\n",
      "1/1 [==============================] - 0s 574us/step - loss: 0.1845 - accuracy: 1.0000\n",
      "Epoch 18/20\n",
      "1/1 [==============================] - 0s 703us/step - loss: 0.1118 - accuracy: 1.0000\n",
      "Epoch 19/20\n",
      "1/1 [==============================] - 0s 559us/step - loss: 0.0913 - accuracy: 0.9000\n",
      "Epoch 20/20\n",
      "1/1 [==============================] - 0s 687us/step - loss: 1.3126 - accuracy: 0.8000\n"
     ]
    }
   ],
   "source": [
    "history = model_with_preprocessing.fit(X_train_processed, y_train, epochs=20, validation_data=(X_test_processed, y_test))"
   ]
  }
 ],
 "metadata": {
  "kernelspec": {
   "display_name": "Python 3",
   "language": "python",
   "name": "python3"
  },
  "language_info": {
   "codemirror_mode": {
    "name": "ipython",
    "version": 3
   },
   "file_extension": ".py",
   "mimetype": "text/x-python",
   "name": "python",
   "nbconvert_exporter": "python",
   "pygments_lexer": "ipython3",
   "version": "3.8.5"
  }
 },
 "nbformat": 4,
 "nbformat_minor": 4
}
