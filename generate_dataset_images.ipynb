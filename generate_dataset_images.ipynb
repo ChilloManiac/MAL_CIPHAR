{
 "cells": [
  {
   "cell_type": "code",
   "execution_count": 1,
   "outputs": [],
   "source": [
    "from libHanSolo import unpacker"
   ],
   "metadata": {
    "collapsed": false,
    "pycharm": {
     "name": "#%%\n"
    }
   }
  },
  {
   "cell_type": "code",
   "execution_count": 2,
   "outputs": [],
   "source": [
    "DIR_PATH = unpacker.DIR_PATH\n",
    "\n",
    "\n",
    "# MetaData\n",
    "metaData = unpacker.unpickle(DIR_PATH + \"batches.meta\")\n",
    "\n",
    "filesInBatch = unpacker.get_value(metaData, \"num_cases_per_batch\")\n",
    "labelNames = [x.decode() for x in unpacker.get_value(metaData, \"label_names\")]\n",
    "featureAmount = unpacker.get_value(metaData, \"num_vis\")\n",
    "\n",
    "unpacker.make_folders()"
   ],
   "metadata": {
    "collapsed": false,
    "pycharm": {
     "name": "#%%\n"
    }
   }
  },
  {
   "cell_type": "code",
   "execution_count": 3,
   "outputs": [
    {
     "name": "stdout",
     "output_type": "stream",
     "text": [
      "DONE\n"
     ]
    }
   ],
   "source": [
    "# Batches\n",
    "for i in range(1,6):\n",
    "    data = unpacker.unpickle(DIR_PATH + \"data_batch_\" + str(i))\n",
    "    unpacker.unpack_batch(data, filesInBatch)\n",
    "\n",
    "print(\"DONE\")"
   ],
   "metadata": {
    "collapsed": false,
    "pycharm": {
     "name": "#%%\n"
    }
   }
  },
  {
   "cell_type": "code",
   "execution_count": 4,
   "outputs": [],
   "source": [
    "# Test batch\n",
    "test_data = unpacker.unpickle(DIR_PATH + \"test_batch\")\n",
    "unpacker.unpack_batch(test_data, filesInBatch, True)\n",
    "\n",
    "print(\"DONE\")\n"
   ],
   "metadata": {
    "collapsed": false,
    "pycharm": {
     "name": "#%%\n"
    }
   }
  }
 ],
 "metadata": {
  "kernelspec": {
   "display_name": "Python 3",
   "language": "python",
   "name": "python3"
  },
  "language_info": {
   "codemirror_mode": {
    "name": "ipython",
    "version": 2
   },
   "file_extension": ".py",
   "mimetype": "text/x-python",
   "name": "python",
   "nbconvert_exporter": "python",
   "pygments_lexer": "ipython2",
   "version": "2.7.6"
  }
 },
 "nbformat": 4,
 "nbformat_minor": 0
}