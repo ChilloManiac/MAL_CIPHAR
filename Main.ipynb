{
 "cells": [
  {
   "cell_type": "code",
   "execution_count": 85,
   "metadata": {},
   "outputs": [],
   "source": [
    "# Imports\n",
    "import numpy as np\n",
    "import tensorflow as tf\n",
    "from tensorflow import keras\n",
    "import pickle\n",
    "from libHanSolo import unpacker"
   ]
  },
  {
   "cell_type": "code",
   "execution_count": 86,
   "metadata": {},
   "outputs": [],
   "source": [
    "# Constants\n",
    "INDEX_ORDER = [(x, x + 1024, x + 2048) for x in range(0, 1024)]\n",
    "INPUT_SHAPE = (32, 32, 3)"
   ]
  },
  {
   "cell_type": "code",
   "execution_count": 87,
   "metadata": {},
   "outputs": [],
   "source": [
    "def DataToImage(pixel_values):\n",
    "    ordered = pixel_values[INDEX_ORDER]\n",
    "    return np.array(ordered.reshape((32,32,3)))\n",
    "\n",
    "def BatchToImages(batch):\n",
    "    images = unpacker.get_value(batch, 'data')\n",
    "    return np.array([DataToImage(image) for image in images])\n",
    "\n",
    "def LabelToVector(label_value):\n",
    "    arr = np.zeros(10)\n",
    "    arr[label_value] = 1.0\n",
    "    return arr\n",
    "\n",
    "def BatchToLabelVector(batch):\n",
    "    labels = unpacker.get_value(batch, 'labels')\n",
    "    return np.array([LabelToVector(label) for label in labels])\n",
    "\n",
    "def SetupData():\n",
    "    batches = [unpacker.unpickle(f'./data/data_batch_{index}') for index in range(1, 6)]\n",
    "    test = unpacker.unpickle(f'./data/test_batch')\n",
    "    X_train = np.concatenate([BatchToImages(batch) for batch in batches])\n",
    "    X_test = BatchToImages(test)\n",
    "    y_train = np.concatenate([BatchToLabelVector(batch) for batch in batches])\n",
    "    y_test = BatchToLabelVector(test)\n",
    "    return [X_train, y_train, X_test, y_test]"
   ]
  },
  {
   "cell_type": "code",
   "execution_count": 88,
   "metadata": {},
   "outputs": [],
   "source": [
    "[X_train, y_train, X_test, y_test] = SetupData()\n",
    "print(f'{X_train.shape} {X_test.shape} {y_train.shape} {y_test.shape}')"
   ]
  }
 ],
 "metadata": {
  "kernelspec": {
   "display_name": "Python 3",
   "language": "python",
   "name": "python3"
  },
  "language_info": {
   "codemirror_mode": {
    "name": "ipython",
    "version": 3
   },
   "file_extension": ".py",
   "mimetype": "text/x-python",
   "name": "python",
   "nbconvert_exporter": "python",
   "pygments_lexer": "ipython3",
   "version": "3.8.5"
  }
 },
 "nbformat": 4,
 "nbformat_minor": 4
}
