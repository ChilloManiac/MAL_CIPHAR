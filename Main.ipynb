{
 "cells": [
  {
   "cell_type": "markdown",
   "metadata": {},
   "source": [
    "# Setup"
   ]
  },
  {
   "cell_type": "code",
   "execution_count": 1,
   "metadata": {},
   "outputs": [],
   "source": [
    "# Imports\n",
    "import numpy as np\n",
    "import tensorflow as tf\n",
    "from tensorflow import keras\n",
    "import pickle\n",
    "from libHanSolo import unpacker\n",
    "from matplotlib import pyplot"
   ]
  },
  {
   "cell_type": "code",
   "execution_count": 2,
   "metadata": {},
   "outputs": [],
   "source": [
    "# Constants\n",
    "INDEX_ORDER = [(x, x + 1024, x + 2048) for x in range(0, 1024)]\n",
    "INPUT_SHAPE = (32, 32, 3)"
   ]
  },
  {
   "cell_type": "code",
   "execution_count": 3,
   "metadata": {},
   "outputs": [],
   "source": [
    "def DataToImage(pixel_values):\n",
    "    ordered = pixel_values[INDEX_ORDER]\n",
    "    return np.array(ordered.reshape(INPUT_SHAPE))\n",
    "\n",
    "def BatchToImages(batch):\n",
    "    images = unpacker.get_value(batch, 'data')\n",
    "    return np.array([DataToImage(image) for image in images])\n",
    "\n",
    "def LabelToVector(label_value):\n",
    "    arr = np.zeros(10)\n",
    "    arr[label_value] = 1.0\n",
    "    return arr\n",
    "\n",
    "def BatchToLabelVector(batch):\n",
    "    labels = unpacker.get_value(batch, 'labels')\n",
    "    return np.array([LabelToVector(label) for label in labels])\n",
    "\n",
    "def SetupData():\n",
    "    batches = [unpacker.unpickle(f'./data/data_batch_{index}') for index in range(1, 6)]\n",
    "    test = unpacker.unpickle(f'./data/test_batch')\n",
    "    X_train = np.concatenate([BatchToImages(batch) for batch in batches])\n",
    "    X_test = BatchToImages(test)\n",
    "    y_train = np.concatenate([BatchToLabelVector(batch) for batch in batches])\n",
    "    y_test = BatchToLabelVector(test)\n",
    "    return [X_train, y_train, X_test, y_test]\n",
    "\n"
   ]
  },
  {
   "cell_type": "code",
   "execution_count": 4,
   "metadata": {},
   "outputs": [
    {
     "name": "stdout",
     "output_type": "stream",
     "text": [
      "(50000, 32, 32, 3) (10000, 32, 32, 3) (50000, 10) (10000, 10)\n"
     ]
    }
   ],
   "source": [
    "[X_train, y_train, X_test, y_test] = SetupData()\n",
    "print(f'{X_train.shape} {X_test.shape} {y_train.shape} {y_test.shape}')"
   ]
  },
  {
   "cell_type": "markdown",
   "metadata": {},
   "source": [
    "# Resnet50 - transfer learning"
   ]
  },
  {
   "cell_type": "code",
   "execution_count": 7,
   "metadata": {},
   "outputs": [
    {
     "name": "stdout",
     "output_type": "stream",
     "text": [
      "Model: \"sequential_1\"\n",
      "_________________________________________________________________\n",
      "Layer (type)                 Output Shape              Param #   \n",
      "=================================================================\n",
      "resnet50 (Model)             (None, 2048)              23587712  \n",
      "_________________________________________________________________\n",
      "dense_3 (Dense)              (None, 128)               262272    \n",
      "_________________________________________________________________\n",
      "dropout_2 (Dropout)          (None, 128)               0         \n",
      "_________________________________________________________________\n",
      "dense_4 (Dense)              (None, 64)                8256      \n",
      "_________________________________________________________________\n",
      "dropout_3 (Dropout)          (None, 64)                0         \n",
      "_________________________________________________________________\n",
      "dense_5 (Dense)              (None, 10)                650       \n",
      "=================================================================\n",
      "Total params: 23,858,890\n",
      "Trainable params: 23,805,770\n",
      "Non-trainable params: 53,120\n",
      "_________________________________________________________________\n"
     ]
    }
   ],
   "source": [
    "model = keras.Sequential([\n",
    "    keras.applications.resnet50.ResNet50(weights=\"imagenet\", include_top=False, input_shape=INPUT_SHAPE, pooling='avg'),\n",
    "    keras.layers.Dense(128, activation=\"relu\"),\n",
    "    keras.layers.Dropout(0.3),\n",
    "    keras.layers.Dense(64, activation=\"relu\"),\n",
    "    keras.layers.Dropout(0.3),\n",
    "    keras.layers.Dense(10, activation=\"softmax\")\n",
    "])\n",
    "\n",
    "model.compile(loss='categorical_crossentropy',optimizer='adam',metrics=['accuracy'])\n",
    "model.summary()\n",
    "\n",
    "def process(set):\n",
    "    return keras.applications.resnet.preprocess_input(set)\n",
    "    \n",
    "X_train_processed = process(X_train)\n",
    "X_test_processed = process(X_test)"
   ]
  },
  {
   "cell_type": "code",
   "execution_count": 8,
   "metadata": {},
   "outputs": [
    {
     "name": "stdout",
     "output_type": "stream",
     "text": [
      "Epoch 1/20\n",
      "782/782 [==============================] - 84s 108ms/step - loss: 1.4502 - accuracy: 0.5207 - val_loss: 1.2613 - val_accuracy: 0.5907\n",
      "Epoch 2/20\n",
      "782/782 [==============================] - 55s 71ms/step - loss: 1.1434 - accuracy: 0.6299 - val_loss: 1.3355 - val_accuracy: 0.5506\n",
      "Epoch 3/20\n",
      "782/782 [==============================] - 49s 63ms/step - loss: 1.1158 - accuracy: 0.6398 - val_loss: 1.0157 - val_accuracy: 0.6638\n",
      "Epoch 4/20\n",
      "782/782 [==============================] - 49s 62ms/step - loss: 0.8505 - accuracy: 0.7305 - val_loss: 0.8283 - val_accuracy: 0.7197\n",
      "Epoch 5/20\n",
      "782/782 [==============================] - 49s 62ms/step - loss: 0.7214 - accuracy: 0.7706 - val_loss: 0.7854 - val_accuracy: 0.7489\n",
      "Epoch 6/20\n",
      "782/782 [==============================] - 49s 62ms/step - loss: 0.6311 - accuracy: 0.7999 - val_loss: 0.7238 - val_accuracy: 0.7593\n",
      "Epoch 7/20\n",
      "782/782 [==============================] - 57s 73ms/step - loss: 0.5905 - accuracy: 0.8144 - val_loss: 0.7697 - val_accuracy: 0.7508\n",
      "Epoch 8/20\n",
      "782/782 [==============================] - 60s 76ms/step - loss: 0.5580 - accuracy: 0.8249 - val_loss: 0.8805 - val_accuracy: 0.7283\n",
      "Epoch 9/20\n",
      "782/782 [==============================] - 58s 74ms/step - loss: 0.4529 - accuracy: 0.8590 - val_loss: 1.5111 - val_accuracy: 0.6977\n",
      "Epoch 10/20\n",
      "782/782 [==============================] - 49s 62ms/step - loss: 0.4273 - accuracy: 0.8684 - val_loss: 0.8112 - val_accuracy: 0.7586\n",
      "Epoch 11/20\n",
      "782/782 [==============================] - 49s 62ms/step - loss: 0.3541 - accuracy: 0.8905 - val_loss: 0.9039 - val_accuracy: 0.7362\n",
      "Epoch 12/20\n",
      "782/782 [==============================] - 49s 62ms/step - loss: 0.3235 - accuracy: 0.8990 - val_loss: 0.6805 - val_accuracy: 0.7992\n",
      "Epoch 13/20\n",
      "782/782 [==============================] - 49s 62ms/step - loss: 0.3290 - accuracy: 0.8990 - val_loss: 0.7242 - val_accuracy: 0.7977\n",
      "Epoch 14/20\n",
      "782/782 [==============================] - 36s 46ms/step - loss: 0.2478 - accuracy: 0.9247 - val_loss: 0.8052 - val_accuracy: 0.7868\n",
      "Epoch 15/20\n",
      "782/782 [==============================] - 36s 47ms/step - loss: 0.2830 - accuracy: 0.9161 - val_loss: 0.8305 - val_accuracy: 0.7824\n",
      "Epoch 16/20\n",
      "782/782 [==============================] - 40s 51ms/step - loss: 0.1925 - accuracy: 0.9418 - val_loss: 0.8963 - val_accuracy: 0.7800\n",
      "Epoch 17/20\n",
      "782/782 [==============================] - 36s 47ms/step - loss: 0.1752 - accuracy: 0.9464 - val_loss: 0.8790 - val_accuracy: 0.7736\n",
      "Epoch 18/20\n",
      "782/782 [==============================] - 49s 63ms/step - loss: 0.1586 - accuracy: 0.9533 - val_loss: 0.9681 - val_accuracy: 0.7694\n",
      "Epoch 19/20\n",
      "782/782 [==============================] - 49s 63ms/step - loss: 0.1763 - accuracy: 0.9482 - val_loss: 0.8599 - val_accuracy: 0.7874\n",
      "Epoch 20/20\n",
      "782/782 [==============================] - 49s 63ms/step - loss: 0.1507 - accuracy: 0.9543 - val_loss: 0.9130 - val_accuracy: 0.7913\n"
     ]
    }
   ],
   "source": [
    "history_model = model.fit(X_train_processed, y_train, epochs=20, validation_data=(X_test_processed, y_test), batch_size=64)"
   ]
  },
  {
   "cell_type": "markdown",
   "metadata": {},
   "source": [
    "# With preprocessing"
   ]
  },
  {
   "cell_type": "code",
   "execution_count": 9,
   "metadata": {},
   "outputs": [
    {
     "name": "stdout",
     "output_type": "stream",
     "text": [
      "Model: \"sequential_2\"\n",
      "_________________________________________________________________\n",
      "Layer (type)                 Output Shape              Param #   \n",
      "=================================================================\n",
      "random_flip (RandomFlip)     (None, 32, 32, 3)         0         \n",
      "_________________________________________________________________\n",
      "random_rotation (RandomRotat (None, 32, 32, 3)         0         \n",
      "_________________________________________________________________\n",
      "resnet50 (Model)             (None, 2048)              23587712  \n",
      "_________________________________________________________________\n",
      "dense_6 (Dense)              (None, 128)               262272    \n",
      "_________________________________________________________________\n",
      "dropout_4 (Dropout)          (None, 128)               0         \n",
      "_________________________________________________________________\n",
      "dense_7 (Dense)              (None, 64)                8256      \n",
      "_________________________________________________________________\n",
      "dropout_5 (Dropout)          (None, 64)                0         \n",
      "_________________________________________________________________\n",
      "dense_8 (Dense)              (None, 10)                650       \n",
      "=================================================================\n",
      "Total params: 23,858,890\n",
      "Trainable params: 23,805,770\n",
      "Non-trainable params: 53,120\n",
      "_________________________________________________________________\n"
     ]
    }
   ],
   "source": [
    "model_with_preprocessing = keras.Sequential([\n",
    "    keras.Input(INPUT_SHAPE),\n",
    "    keras.layers.experimental.preprocessing.RandomFlip(mode=\"horizontal\"),\n",
    "    keras.layers.experimental.preprocessing.RandomRotation(0.1),\n",
    "    keras.applications.resnet50.ResNet50(weights=\"imagenet\", include_top=False, input_shape=INPUT_SHAPE, pooling='avg'),\n",
    "    keras.layers.Dense(128, activation=\"relu\"),\n",
    "    keras.layers.Dropout(0.3),\n",
    "    keras.layers.Dense(64, activation=\"relu\"),\n",
    "    keras.layers.Dropout(0.3),\n",
    "    keras.layers.Dense(10, activation=\"softmax\")\n",
    "])\n",
    "\n",
    "model_with_preprocessing.compile(loss='categorical_crossentropy',optimizer='adam',metrics=['accuracy'])\n",
    "model_with_preprocessing.summary()\n",
    "\n",
    "def process(set):\n",
    "    return keras.applications.resnet.preprocess_input(set)\n",
    "    \n",
    "X_train_processed = process(X_train)\n",
    "X_test_processed = process(X_test)"
   ]
  },
  {
   "cell_type": "code",
   "execution_count": 10,
   "metadata": {},
   "outputs": [
    {
     "name": "stdout",
     "output_type": "stream",
     "text": [
      "Epoch 1/20\n",
      "1563/1563 [==============================] - 62s 40ms/step - loss: 1.8184 - accuracy: 0.3453 - val_loss: 1.7089 - val_accuracy: 0.3854\n",
      "Epoch 2/20\n",
      "1563/1563 [==============================] - 62s 39ms/step - loss: 1.6491 - accuracy: 0.4103 - val_loss: 1.5905 - val_accuracy: 0.4091\n",
      "Epoch 3/20\n",
      "1563/1563 [==============================] - 62s 39ms/step - loss: 1.6074 - accuracy: 0.4243 - val_loss: 1.4633 - val_accuracy: 0.4594\n",
      "Epoch 4/20\n",
      "1563/1563 [==============================] - 76s 49ms/step - loss: 1.5838 - accuracy: 0.4347 - val_loss: 1.4562 - val_accuracy: 0.4822\n",
      "Epoch 5/20\n",
      "1563/1563 [==============================] - 88s 56ms/step - loss: 1.4154 - accuracy: 0.5037 - val_loss: 2.2580 - val_accuracy: 0.2732\n",
      "Epoch 6/20\n",
      "1563/1563 [==============================] - 88s 56ms/step - loss: 1.4816 - accuracy: 0.4767 - val_loss: 1.5070 - val_accuracy: 0.4920\n",
      "Epoch 7/20\n",
      "1563/1563 [==============================] - 88s 56ms/step - loss: 1.4340 - accuracy: 0.4976 - val_loss: 1.2587 - val_accuracy: 0.5508\n",
      "Epoch 8/20\n",
      "1563/1563 [==============================] - 82s 52ms/step - loss: 1.4228 - accuracy: 0.4972 - val_loss: 1.1874 - val_accuracy: 0.5778\n",
      "Epoch 9/20\n",
      "1563/1563 [==============================] - 62s 40ms/step - loss: 1.4778 - accuracy: 0.4819 - val_loss: 1.2930 - val_accuracy: 0.5392\n",
      "Epoch 10/20\n",
      "1563/1563 [==============================] - 62s 39ms/step - loss: 1.4414 - accuracy: 0.4974 - val_loss: 1.2947 - val_accuracy: 0.5400\n",
      "Epoch 11/20\n",
      "1563/1563 [==============================] - 62s 39ms/step - loss: 1.5105 - accuracy: 0.4671 - val_loss: 1.2161 - val_accuracy: 0.5591\n",
      "Epoch 12/20\n",
      "1563/1563 [==============================] - 62s 39ms/step - loss: 1.3209 - accuracy: 0.5354 - val_loss: 1.1431 - val_accuracy: 0.5969\n",
      "Epoch 13/20\n",
      "1563/1563 [==============================] - 62s 39ms/step - loss: 1.3026 - accuracy: 0.5480 - val_loss: 1.1299 - val_accuracy: 0.5939\n",
      "Epoch 14/20\n",
      "1563/1563 [==============================] - 62s 39ms/step - loss: 1.3659 - accuracy: 0.5263 - val_loss: 1.1567 - val_accuracy: 0.5927\n",
      "Epoch 15/20\n",
      "1563/1563 [==============================] - 79s 50ms/step - loss: 1.5082 - accuracy: 0.4699 - val_loss: 1.6510 - val_accuracy: 0.4047\n",
      "Epoch 16/20\n",
      "1563/1563 [==============================] - 88s 56ms/step - loss: 1.4721 - accuracy: 0.4802 - val_loss: 1.4798 - val_accuracy: 0.4781\n",
      "Epoch 17/20\n",
      "1563/1563 [==============================] - 85s 55ms/step - loss: 1.4633 - accuracy: 0.4819 - val_loss: 1.2999 - val_accuracy: 0.5312\n",
      "Epoch 18/20\n",
      "1563/1563 [==============================] - 62s 39ms/step - loss: 1.2917 - accuracy: 0.5478 - val_loss: 1.1162 - val_accuracy: 0.6068\n",
      "Epoch 19/20\n",
      "1563/1563 [==============================] - 62s 39ms/step - loss: 1.3486 - accuracy: 0.5319 - val_loss: 1.5179 - val_accuracy: 0.4722\n",
      "Epoch 20/20\n",
      "1563/1563 [==============================] - 62s 40ms/step - loss: 1.3450 - accuracy: 0.5323 - val_loss: 1.1551 - val_accuracy: 0.5978\n"
     ]
    }
   ],
   "source": [
    "history_model_preprocessing = model_with_preprocessing.fit(X_train_processed, y_train, epochs=20, validation_data=(X_test_processed, y_test))"
   ]
  },
  {
   "cell_type": "code",
   "execution_count": 11,
   "metadata": {},
   "outputs": [
    {
     "name": "stdout",
     "output_type": "stream",
     "text": [
      "Model: \"sequential_3\"\n",
      "_________________________________________________________________\n",
      "Layer (type)                 Output Shape              Param #   \n",
      "=================================================================\n",
      "resnet50 (Model)             (None, 2048)              23587712  \n",
      "_________________________________________________________________\n",
      "dense_9 (Dense)              (None, 128)               262272    \n",
      "_________________________________________________________________\n",
      "dropout_6 (Dropout)          (None, 128)               0         \n",
      "_________________________________________________________________\n",
      "dense_10 (Dense)             (None, 64)                8256      \n",
      "_________________________________________________________________\n",
      "dropout_7 (Dropout)          (None, 64)                0         \n",
      "_________________________________________________________________\n",
      "dense_11 (Dense)             (None, 10)                650       \n",
      "=================================================================\n",
      "Total params: 23,858,890\n",
      "Trainable params: 23,805,770\n",
      "Non-trainable params: 53,120\n",
      "_________________________________________________________________\n"
     ]
    }
   ],
   "source": [
    "model_no_weight = keras.Sequential([\n",
    "    keras.applications.resnet50.ResNet50(include_top=False, input_shape=INPUT_SHAPE, pooling='avg'),\n",
    "    keras.layers.Dense(128, activation=\"relu\"),\n",
    "    keras.layers.Dropout(0.3),\n",
    "    keras.layers.Dense(64, activation=\"relu\"),\n",
    "    keras.layers.Dropout(0.3),\n",
    "    keras.layers.Dense(10, activation=\"softmax\")\n",
    "])\n",
    "\n",
    "model_no_weight.compile(loss='categorical_crossentropy',optimizer='adam',metrics=['accuracy'])\n",
    "model_no_weight.summary()\n",
    "\n",
    "def process(set):\n",
    "    return keras.applications.resnet.preprocess_input(set)\n",
    "    \n",
    "X_train_processed = process(X_train)\n",
    "X_test_processed = process(X_test)"
   ]
  },
  {
   "cell_type": "code",
   "execution_count": 12,
   "metadata": {},
   "outputs": [
    {
     "name": "stdout",
     "output_type": "stream",
     "text": [
      "Epoch 1/20\n",
      "1563/1563 [==============================] - 61s 39ms/step - loss: 1.7613 - accuracy: 0.3747 - val_loss: 2.5371 - val_accuracy: 0.3116\n",
      "Epoch 2/20\n",
      "1563/1563 [==============================] - 61s 39ms/step - loss: 1.4657 - accuracy: 0.4850 - val_loss: 1.4231 - val_accuracy: 0.4829\n",
      "Epoch 3/20\n",
      "1563/1563 [==============================] - 61s 39ms/step - loss: 1.3525 - accuracy: 0.5319 - val_loss: 1.1709 - val_accuracy: 0.5831\n",
      "Epoch 4/20\n",
      "1563/1563 [==============================] - 60s 39ms/step - loss: 1.2824 - accuracy: 0.5574 - val_loss: 1.7286 - val_accuracy: 0.3812\n",
      "Epoch 5/20\n",
      "1563/1563 [==============================] - 86s 55ms/step - loss: 1.2418 - accuracy: 0.5738 - val_loss: 1.0473 - val_accuracy: 0.6354\n",
      "Epoch 6/20\n",
      "1563/1563 [==============================] - 86s 55ms/step - loss: 1.1030 - accuracy: 0.6224 - val_loss: 1.0889 - val_accuracy: 0.6406\n",
      "Epoch 7/20\n",
      "1563/1563 [==============================] - 86s 55ms/step - loss: 1.1202 - accuracy: 0.6206 - val_loss: 1.2784 - val_accuracy: 0.5628\n",
      "Epoch 8/20\n",
      "1563/1563 [==============================] - 86s 55ms/step - loss: 1.0499 - accuracy: 0.6448 - val_loss: 1.0316 - val_accuracy: 0.6416\n",
      "Epoch 9/20\n",
      "1563/1563 [==============================] - 86s 55ms/step - loss: 1.2242 - accuracy: 0.5756 - val_loss: 1.3289 - val_accuracy: 0.5306\n",
      "Epoch 10/20\n",
      "1563/1563 [==============================] - 86s 55ms/step - loss: 1.2772 - accuracy: 0.5583 - val_loss: 1.4623 - val_accuracy: 0.4948\n",
      "Epoch 11/20\n",
      "1563/1563 [==============================] - 86s 55ms/step - loss: 1.2604 - accuracy: 0.5658 - val_loss: 1.4079 - val_accuracy: 0.4999\n",
      "Epoch 12/20\n",
      "1563/1563 [==============================] - 86s 55ms/step - loss: 1.2370 - accuracy: 0.5751 - val_loss: 1.0583 - val_accuracy: 0.6354\n",
      "Epoch 13/20\n",
      "1563/1563 [==============================] - 86s 55ms/step - loss: 1.4830 - accuracy: 0.4873 - val_loss: 1.2266 - val_accuracy: 0.5607\n",
      "Epoch 14/20\n",
      "1563/1563 [==============================] - 86s 55ms/step - loss: 1.2193 - accuracy: 0.5798 - val_loss: 1.2700 - val_accuracy: 0.5554\n",
      "Epoch 15/20\n",
      "1563/1563 [==============================] - 86s 55ms/step - loss: 1.0828 - accuracy: 0.6308 - val_loss: 0.9356 - val_accuracy: 0.6755\n",
      "Epoch 16/20\n",
      "1563/1563 [==============================] - 86s 55ms/step - loss: 1.1084 - accuracy: 0.6299 - val_loss: 1.1192 - val_accuracy: 0.6024\n",
      "Epoch 17/20\n",
      "1563/1563 [==============================] - 70s 45ms/step - loss: 1.0987 - accuracy: 0.6256 - val_loss: 1.7485 - val_accuracy: 0.3910\n",
      "Epoch 18/20\n",
      "1563/1563 [==============================] - 61s 39ms/step - loss: 1.0664 - accuracy: 0.6403 - val_loss: 1.0712 - val_accuracy: 0.6364\n",
      "Epoch 19/20\n",
      "1563/1563 [==============================] - 61s 39ms/step - loss: 1.0960 - accuracy: 0.6303 - val_loss: 1.0343 - val_accuracy: 0.6457\n",
      "Epoch 20/20\n",
      "1563/1563 [==============================] - 61s 39ms/step - loss: 0.9571 - accuracy: 0.6762 - val_loss: 0.8859 - val_accuracy: 0.7007\n"
     ]
    }
   ],
   "source": [
    "history_model_no_weight = model_no_weight.fit(X_train_processed, y_train, epochs=20, validation_data=(X_test_processed, y_test))"
   ]
  },
  {
   "cell_type": "code",
   "execution_count": 14,
   "metadata": {},
   "outputs": [
    {
     "name": "stdout",
     "output_type": "stream",
     "text": [
      "INFO:tensorflow:Assets written to: data/models/resnet2/assets\n",
      "INFO:tensorflow:Assets written to: data/models/preprocessed2/assets\n",
      "INFO:tensorflow:Assets written to: data/models/no-weights/assets\n"
     ]
    }
   ],
   "source": [
    "model.save('data/models/resnet2')\n",
    "model_with_preprocessing.save('data/models/preprocessed2')\n",
    "model_no_weight.save('data/models/no-weights')"
   ]
  }
 ],
 "metadata": {
  "kernelspec": {
   "display_name": "Python 3",
   "language": "python",
   "name": "python3"
  },
  "language_info": {
   "codemirror_mode": {
    "name": "ipython",
    "version": 3
   },
   "file_extension": ".py",
   "mimetype": "text/x-python",
   "name": "python",
   "nbconvert_exporter": "python",
   "pygments_lexer": "ipython3",
   "version": "3.8.5"
  }
 },
 "nbformat": 4,
 "nbformat_minor": 4
}
