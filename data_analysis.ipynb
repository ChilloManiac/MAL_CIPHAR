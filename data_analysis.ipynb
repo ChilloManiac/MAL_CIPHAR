{
 "cells": [
  {
   "cell_type": "code",
   "execution_count": 5,
   "outputs": [],
   "source": [
    "import importlib\n",
    "import numpy as np\n",
    "from PIL import Image\n",
    "from libHanSolo import images\n",
    "importlib.reload(images)\n",
    "IMAGE_DIR = \"./data/images/\"\n",
    "np.random.seed(42)\n",
    "\n",
    "def shuffle_arrays_similarly(a1, a2):\n",
    "    assert len(a1) == len(a2), 'arrays must be same size'\n",
    "    randomize = np.arange(len(a1))\n",
    "    np.random.shuffle(randomize)\n",
    "    return a1[randomize], a2[randomize]\n",
    "\n"
   ],
   "metadata": {
    "collapsed": false,
    "pycharm": {
     "name": "#%%\n"
    }
   }
  },
  {
   "cell_type": "code",
   "execution_count": 6,
   "outputs": [],
   "source": [
    "# Load Data\n",
    "(X_train_unshuffled, y_train_unshuffled) = images.load_data(IMAGE_DIR)\n",
    "(X_test_unshuffled, y_test_unshuffled) = images.load_test_data(IMAGE_DIR)"
   ],
   "metadata": {
    "collapsed": false,
    "pycharm": {
     "name": "#%%\n"
    }
   }
  },
  {
   "cell_type": "code",
   "execution_count": null,
   "outputs": [],
   "source": [
    "# shuffle\n",
    "(X_train, y_train) = shuffle_arrays_similarly(X_train_unshuffled, y_train_unshuffled)\n",
    "(X_test, y_test) = shuffle_arrays_similarly(X_test_unshuffled, y_test_unshuffled)"
   ],
   "metadata": {
    "collapsed": false,
    "pycharm": {
     "name": "#%%\n",
     "is_executing": true
    }
   }
  },
  {
   "cell_type": "code",
   "execution_count": 74,
   "outputs": [],
   "source": [
    "# Average image for each class\n",
    "labels = [\"Airplane\", \"Automobile\", \"Bird\", \"Cat\", \"Deer\", \"Dog\", \"Frog\", \"Horse\", \"Ship\", \"Truck\"]\n",
    "for (index, label) in zip(range(0,9), labels):\n",
    "    import matplotlib.pyplot as plt\n",
    "    x_label = X_train_unshuffled[index*5000:(index+1) *5000] #Unshuffled are categorized by index\n",
    "    mean = np.mean(x_label, axis=0)\n",
    "    im = Image.fromarray(mean.astype(np.uint8).reshape(32,32,3))\n",
    "    im.resize((256, 256), Image.ANTIALIAS).save(f\"./data/mean_images/{label}.png\")\n",
    "    distances = [np.linalg.norm(image-mean) for image in x_label]\n",
    "    plt.hist(distances, bins=25)\n",
    "    plt.xlabel(f\"Distance from mean image in class: {label}\")\n",
    "    plt.ylabel(f\"Amount of images\")\n",
    "    plt.savefig(f\"././data/mean_images/{label}-hist\")\n",
    "    plt.close()\n"
   ],
   "metadata": {
    "collapsed": false,
    "pycharm": {
     "name": "#%%\n"
    }
   }
  }
 ],
 "metadata": {
  "kernelspec": {
   "display_name": "Python 3",
   "language": "python",
   "name": "python3"
  },
  "language_info": {
   "codemirror_mode": {
    "name": "ipython",
    "version": 2
   },
   "file_extension": ".py",
   "mimetype": "text/x-python",
   "name": "python",
   "nbconvert_exporter": "python",
   "pygments_lexer": "ipython2",
   "version": "2.7.6"
  }
 },
 "nbformat": 4,
 "nbformat_minor": 0
}